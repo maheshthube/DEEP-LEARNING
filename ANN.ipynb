{
 "cells": [
  {
   "cell_type": "markdown",
   "metadata": {},
   "source": [
    "### Import library "
   ]
  },
  {
   "cell_type": "markdown",
   "metadata": {
    "collapsed": true
   },
   "source": [
    "!pip install tensorflow"
   ]
  },
  {
   "cell_type": "code",
   "execution_count": 2,
   "metadata": {},
   "outputs": [],
   "source": [
    "############ Data Visualization ############\n",
    "import matplotlib.pyplot as plt \n",
    "import seaborn as sns\n",
    "\n",
    "############ Data analysis & calculation ############\n",
    "import numpy as np\n",
    "import pandas as pd\n",
    "np.set_printoptions(precision=3, suppress=True)\n",
    "\n",
    "############ Model building & Pre-Processing ############\n",
    "import tensorflow as tf\n",
    "from tensorflow import keras\n",
    "from tensorflow.keras import layers\n",
    "from tensorflow.keras.layers.experimental import preprocessing"
   ]
  },
  {
   "cell_type": "markdown",
   "metadata": {},
   "source": [
    "### Import data "
   ]
  },
  {
   "cell_type": "code",
   "execution_count": 3,
   "metadata": {},
   "outputs": [],
   "source": [
    "import os\n",
    "os.chdir(r\"C:\\Users\\USER\\Desktop\\Python Code\\TensorFlow\") "
   ]
  },
  {
   "cell_type": "code",
   "execution_count": 4,
   "metadata": {},
   "outputs": [],
   "source": [
    "raw_dataset=pd.read_csv(\"Auto.csv\")"
   ]
  },
  {
   "cell_type": "code",
   "execution_count": 5,
   "metadata": {},
   "outputs": [
    {
     "data": {
      "text/html": [
       "<div>\n",
       "<style scoped>\n",
       "    .dataframe tbody tr th:only-of-type {\n",
       "        vertical-align: middle;\n",
       "    }\n",
       "\n",
       "    .dataframe tbody tr th {\n",
       "        vertical-align: top;\n",
       "    }\n",
       "\n",
       "    .dataframe thead th {\n",
       "        text-align: right;\n",
       "    }\n",
       "</style>\n",
       "<table border=\"1\" class=\"dataframe\">\n",
       "  <thead>\n",
       "    <tr style=\"text-align: right;\">\n",
       "      <th></th>\n",
       "      <th>MPG</th>\n",
       "      <th>Cylinders</th>\n",
       "      <th>Displacement</th>\n",
       "      <th>Horsepower</th>\n",
       "      <th>Weight</th>\n",
       "      <th>Acceleration</th>\n",
       "      <th>Model Year</th>\n",
       "      <th>Origin</th>\n",
       "    </tr>\n",
       "  </thead>\n",
       "  <tbody>\n",
       "    <tr>\n",
       "      <th>393</th>\n",
       "      <td>27.0</td>\n",
       "      <td>4</td>\n",
       "      <td>140.0</td>\n",
       "      <td>86.0</td>\n",
       "      <td>2790</td>\n",
       "      <td>15.6</td>\n",
       "      <td>82</td>\n",
       "      <td>1</td>\n",
       "    </tr>\n",
       "    <tr>\n",
       "      <th>394</th>\n",
       "      <td>44.0</td>\n",
       "      <td>4</td>\n",
       "      <td>97.0</td>\n",
       "      <td>52.0</td>\n",
       "      <td>2130</td>\n",
       "      <td>24.6</td>\n",
       "      <td>82</td>\n",
       "      <td>2</td>\n",
       "    </tr>\n",
       "    <tr>\n",
       "      <th>395</th>\n",
       "      <td>32.0</td>\n",
       "      <td>4</td>\n",
       "      <td>135.0</td>\n",
       "      <td>84.0</td>\n",
       "      <td>2295</td>\n",
       "      <td>11.6</td>\n",
       "      <td>82</td>\n",
       "      <td>1</td>\n",
       "    </tr>\n",
       "    <tr>\n",
       "      <th>396</th>\n",
       "      <td>28.0</td>\n",
       "      <td>4</td>\n",
       "      <td>120.0</td>\n",
       "      <td>79.0</td>\n",
       "      <td>2625</td>\n",
       "      <td>18.6</td>\n",
       "      <td>82</td>\n",
       "      <td>1</td>\n",
       "    </tr>\n",
       "    <tr>\n",
       "      <th>397</th>\n",
       "      <td>31.0</td>\n",
       "      <td>4</td>\n",
       "      <td>119.0</td>\n",
       "      <td>82.0</td>\n",
       "      <td>2720</td>\n",
       "      <td>19.4</td>\n",
       "      <td>82</td>\n",
       "      <td>1</td>\n",
       "    </tr>\n",
       "  </tbody>\n",
       "</table>\n",
       "</div>"
      ],
      "text/plain": [
       "      MPG  Cylinders  Displacement  Horsepower  Weight  Acceleration  \\\n",
       "393  27.0          4         140.0        86.0    2790          15.6   \n",
       "394  44.0          4          97.0        52.0    2130          24.6   \n",
       "395  32.0          4         135.0        84.0    2295          11.6   \n",
       "396  28.0          4         120.0        79.0    2625          18.6   \n",
       "397  31.0          4         119.0        82.0    2720          19.4   \n",
       "\n",
       "     Model Year  Origin  \n",
       "393          82       1  \n",
       "394          82       2  \n",
       "395          82       1  \n",
       "396          82       1  \n",
       "397          82       1  "
      ]
     },
     "execution_count": 5,
     "metadata": {},
     "output_type": "execute_result"
    }
   ],
   "source": [
    "dataset = raw_dataset.copy()\n",
    "dataset.tail()"
   ]
  },
  {
   "cell_type": "code",
   "execution_count": 6,
   "metadata": {},
   "outputs": [
    {
     "name": "stdout",
     "output_type": "stream",
     "text": [
      "<class 'pandas.core.frame.DataFrame'>\n",
      "RangeIndex: 398 entries, 0 to 397\n",
      "Data columns (total 8 columns):\n",
      " #   Column        Non-Null Count  Dtype  \n",
      "---  ------        --------------  -----  \n",
      " 0   MPG           398 non-null    float64\n",
      " 1   Cylinders     398 non-null    int64  \n",
      " 2   Displacement  398 non-null    float64\n",
      " 3   Horsepower    392 non-null    float64\n",
      " 4   Weight        398 non-null    int64  \n",
      " 5   Acceleration  398 non-null    float64\n",
      " 6   Model Year    398 non-null    int64  \n",
      " 7   Origin        398 non-null    int64  \n",
      "dtypes: float64(4), int64(4)\n",
      "memory usage: 25.0 KB\n"
     ]
    }
   ],
   "source": [
    "dataset.info()"
   ]
  },
  {
   "cell_type": "markdown",
   "metadata": {},
   "source": [
    "### Missing Value"
   ]
  },
  {
   "cell_type": "code",
   "execution_count": 7,
   "metadata": {
    "scrolled": true
   },
   "outputs": [
    {
     "data": {
      "text/plain": [
       "MPG             0\n",
       "Cylinders       0\n",
       "Displacement    0\n",
       "Horsepower      6\n",
       "Weight          0\n",
       "Acceleration    0\n",
       "Model Year      0\n",
       "Origin          0\n",
       "dtype: int64"
      ]
     },
     "execution_count": 7,
     "metadata": {},
     "output_type": "execute_result"
    }
   ],
   "source": [
    "dataset.isna().sum()"
   ]
  },
  {
   "cell_type": "code",
   "execution_count": 8,
   "metadata": {},
   "outputs": [
    {
     "data": {
      "text/plain": [
       "1.507537688442211"
      ]
     },
     "execution_count": 8,
     "metadata": {},
     "output_type": "execute_result"
    }
   ],
   "source": [
    "(6/398)*100    # > 40% delete column & <=5% data is very large then we are allowed to delete "
   ]
  },
  {
   "cell_type": "code",
   "execution_count": 9,
   "metadata": {},
   "outputs": [
    {
     "name": "stdout",
     "output_type": "stream",
     "text": [
      "<class 'pandas.core.frame.DataFrame'>\n",
      "Int64Index: 392 entries, 0 to 397\n",
      "Data columns (total 8 columns):\n",
      " #   Column        Non-Null Count  Dtype  \n",
      "---  ------        --------------  -----  \n",
      " 0   MPG           392 non-null    float64\n",
      " 1   Cylinders     392 non-null    int64  \n",
      " 2   Displacement  392 non-null    float64\n",
      " 3   Horsepower    392 non-null    float64\n",
      " 4   Weight        392 non-null    int64  \n",
      " 5   Acceleration  392 non-null    float64\n",
      " 6   Model Year    392 non-null    int64  \n",
      " 7   Origin        392 non-null    int64  \n",
      "dtypes: float64(4), int64(4)\n",
      "memory usage: 27.6 KB\n"
     ]
    }
   ],
   "source": [
    "dataset = dataset.dropna()\n",
    "dataset.info()"
   ]
  },
  {
   "cell_type": "markdown",
   "metadata": {},
   "source": [
    "### Converting data to number"
   ]
  },
  {
   "cell_type": "code",
   "execution_count": 10,
   "metadata": {},
   "outputs": [
    {
     "data": {
      "text/html": [
       "<div>\n",
       "<style scoped>\n",
       "    .dataframe tbody tr th:only-of-type {\n",
       "        vertical-align: middle;\n",
       "    }\n",
       "\n",
       "    .dataframe tbody tr th {\n",
       "        vertical-align: top;\n",
       "    }\n",
       "\n",
       "    .dataframe thead th {\n",
       "        text-align: right;\n",
       "    }\n",
       "</style>\n",
       "<table border=\"1\" class=\"dataframe\">\n",
       "  <thead>\n",
       "    <tr style=\"text-align: right;\">\n",
       "      <th></th>\n",
       "      <th>MPG</th>\n",
       "      <th>Cylinders</th>\n",
       "      <th>Displacement</th>\n",
       "      <th>Horsepower</th>\n",
       "      <th>Weight</th>\n",
       "      <th>Acceleration</th>\n",
       "      <th>Model Year</th>\n",
       "      <th>Origin</th>\n",
       "    </tr>\n",
       "  </thead>\n",
       "  <tbody>\n",
       "    <tr>\n",
       "      <th>393</th>\n",
       "      <td>27.0</td>\n",
       "      <td>4</td>\n",
       "      <td>140.0</td>\n",
       "      <td>86.0</td>\n",
       "      <td>2790</td>\n",
       "      <td>15.6</td>\n",
       "      <td>82</td>\n",
       "      <td>USA</td>\n",
       "    </tr>\n",
       "    <tr>\n",
       "      <th>394</th>\n",
       "      <td>44.0</td>\n",
       "      <td>4</td>\n",
       "      <td>97.0</td>\n",
       "      <td>52.0</td>\n",
       "      <td>2130</td>\n",
       "      <td>24.6</td>\n",
       "      <td>82</td>\n",
       "      <td>Europe</td>\n",
       "    </tr>\n",
       "    <tr>\n",
       "      <th>395</th>\n",
       "      <td>32.0</td>\n",
       "      <td>4</td>\n",
       "      <td>135.0</td>\n",
       "      <td>84.0</td>\n",
       "      <td>2295</td>\n",
       "      <td>11.6</td>\n",
       "      <td>82</td>\n",
       "      <td>USA</td>\n",
       "    </tr>\n",
       "    <tr>\n",
       "      <th>396</th>\n",
       "      <td>28.0</td>\n",
       "      <td>4</td>\n",
       "      <td>120.0</td>\n",
       "      <td>79.0</td>\n",
       "      <td>2625</td>\n",
       "      <td>18.6</td>\n",
       "      <td>82</td>\n",
       "      <td>USA</td>\n",
       "    </tr>\n",
       "    <tr>\n",
       "      <th>397</th>\n",
       "      <td>31.0</td>\n",
       "      <td>4</td>\n",
       "      <td>119.0</td>\n",
       "      <td>82.0</td>\n",
       "      <td>2720</td>\n",
       "      <td>19.4</td>\n",
       "      <td>82</td>\n",
       "      <td>USA</td>\n",
       "    </tr>\n",
       "  </tbody>\n",
       "</table>\n",
       "</div>"
      ],
      "text/plain": [
       "      MPG  Cylinders  Displacement  Horsepower  Weight  Acceleration  \\\n",
       "393  27.0          4         140.0        86.0    2790          15.6   \n",
       "394  44.0          4          97.0        52.0    2130          24.6   \n",
       "395  32.0          4         135.0        84.0    2295          11.6   \n",
       "396  28.0          4         120.0        79.0    2625          18.6   \n",
       "397  31.0          4         119.0        82.0    2720          19.4   \n",
       "\n",
       "     Model Year  Origin  \n",
       "393          82     USA  \n",
       "394          82  Europe  \n",
       "395          82     USA  \n",
       "396          82     USA  \n",
       "397          82     USA  "
      ]
     },
     "execution_count": 10,
     "metadata": {},
     "output_type": "execute_result"
    }
   ],
   "source": [
    "dataset['Origin'] = dataset['Origin'].map({1: 'USA', 2: 'Europe', 3: 'Japan'})\n",
    "dataset.tail()"
   ]
  },
  {
   "cell_type": "code",
   "execution_count": 11,
   "metadata": {},
   "outputs": [
    {
     "data": {
      "text/html": [
       "<div>\n",
       "<style scoped>\n",
       "    .dataframe tbody tr th:only-of-type {\n",
       "        vertical-align: middle;\n",
       "    }\n",
       "\n",
       "    .dataframe tbody tr th {\n",
       "        vertical-align: top;\n",
       "    }\n",
       "\n",
       "    .dataframe thead th {\n",
       "        text-align: right;\n",
       "    }\n",
       "</style>\n",
       "<table border=\"1\" class=\"dataframe\">\n",
       "  <thead>\n",
       "    <tr style=\"text-align: right;\">\n",
       "      <th></th>\n",
       "      <th>MPG</th>\n",
       "      <th>Cylinders</th>\n",
       "      <th>Displacement</th>\n",
       "      <th>Horsepower</th>\n",
       "      <th>Weight</th>\n",
       "      <th>Acceleration</th>\n",
       "      <th>Model Year</th>\n",
       "      <th>Europe</th>\n",
       "      <th>Japan</th>\n",
       "      <th>USA</th>\n",
       "    </tr>\n",
       "  </thead>\n",
       "  <tbody>\n",
       "    <tr>\n",
       "      <th>393</th>\n",
       "      <td>27.0</td>\n",
       "      <td>4</td>\n",
       "      <td>140.0</td>\n",
       "      <td>86.0</td>\n",
       "      <td>2790</td>\n",
       "      <td>15.6</td>\n",
       "      <td>82</td>\n",
       "      <td>0</td>\n",
       "      <td>0</td>\n",
       "      <td>1</td>\n",
       "    </tr>\n",
       "    <tr>\n",
       "      <th>394</th>\n",
       "      <td>44.0</td>\n",
       "      <td>4</td>\n",
       "      <td>97.0</td>\n",
       "      <td>52.0</td>\n",
       "      <td>2130</td>\n",
       "      <td>24.6</td>\n",
       "      <td>82</td>\n",
       "      <td>1</td>\n",
       "      <td>0</td>\n",
       "      <td>0</td>\n",
       "    </tr>\n",
       "    <tr>\n",
       "      <th>395</th>\n",
       "      <td>32.0</td>\n",
       "      <td>4</td>\n",
       "      <td>135.0</td>\n",
       "      <td>84.0</td>\n",
       "      <td>2295</td>\n",
       "      <td>11.6</td>\n",
       "      <td>82</td>\n",
       "      <td>0</td>\n",
       "      <td>0</td>\n",
       "      <td>1</td>\n",
       "    </tr>\n",
       "    <tr>\n",
       "      <th>396</th>\n",
       "      <td>28.0</td>\n",
       "      <td>4</td>\n",
       "      <td>120.0</td>\n",
       "      <td>79.0</td>\n",
       "      <td>2625</td>\n",
       "      <td>18.6</td>\n",
       "      <td>82</td>\n",
       "      <td>0</td>\n",
       "      <td>0</td>\n",
       "      <td>1</td>\n",
       "    </tr>\n",
       "    <tr>\n",
       "      <th>397</th>\n",
       "      <td>31.0</td>\n",
       "      <td>4</td>\n",
       "      <td>119.0</td>\n",
       "      <td>82.0</td>\n",
       "      <td>2720</td>\n",
       "      <td>19.4</td>\n",
       "      <td>82</td>\n",
       "      <td>0</td>\n",
       "      <td>0</td>\n",
       "      <td>1</td>\n",
       "    </tr>\n",
       "  </tbody>\n",
       "</table>\n",
       "</div>"
      ],
      "text/plain": [
       "      MPG  Cylinders  Displacement  Horsepower  Weight  Acceleration  \\\n",
       "393  27.0          4         140.0        86.0    2790          15.6   \n",
       "394  44.0          4          97.0        52.0    2130          24.6   \n",
       "395  32.0          4         135.0        84.0    2295          11.6   \n",
       "396  28.0          4         120.0        79.0    2625          18.6   \n",
       "397  31.0          4         119.0        82.0    2720          19.4   \n",
       "\n",
       "     Model Year  Europe  Japan  USA  \n",
       "393          82       0      0    1  \n",
       "394          82       1      0    0  \n",
       "395          82       0      0    1  \n",
       "396          82       0      0    1  \n",
       "397          82       0      0    1  "
      ]
     },
     "execution_count": 11,
     "metadata": {},
     "output_type": "execute_result"
    }
   ],
   "source": [
    "dataset = pd.get_dummies(dataset, prefix='', prefix_sep='')\n",
    "dataset.tail()"
   ]
  },
  {
   "cell_type": "markdown",
   "metadata": {},
   "source": [
    "### Data Split train & Test"
   ]
  },
  {
   "cell_type": "code",
   "execution_count": 12,
   "metadata": {},
   "outputs": [],
   "source": [
    "train_dataset = dataset.sample(frac=0.8, random_state=0)\n",
    "test_dataset = dataset.drop(train_dataset.index)"
   ]
  },
  {
   "cell_type": "markdown",
   "metadata": {},
   "source": [
    "### Visulaization "
   ]
  },
  {
   "cell_type": "code",
   "execution_count": 13,
   "metadata": {},
   "outputs": [
    {
     "data": {
      "text/plain": [
       "<seaborn.axisgrid.PairGrid at 0x1eb9b90ca60>"
      ]
     },
     "execution_count": 13,
     "metadata": {},
     "output_type": "execute_result"
    },
    {
     "data": {
      "image/png": "[encoded data removed]",
      "text/plain": [
       "<Figure size 1000x1000 with 20 Axes>"
      ]
     },
     "metadata": {},
     "output_type": "display_data"
    }
   ],
   "source": [
    "sns.pairplot(train_dataset[['MPG', 'Cylinders', 'Displacement', 'Weight']], diag_kind='kde')"
   ]
  },
  {
   "cell_type": "code",
   "execution_count": 14,
   "metadata": {},
   "outputs": [
    {
     "data": {
      "text/html": [
       "<div>\n",
       "<style scoped>\n",
       "    .dataframe tbody tr th:only-of-type {\n",
       "        vertical-align: middle;\n",
       "    }\n",
       "\n",
       "    .dataframe tbody tr th {\n",
       "        vertical-align: top;\n",
       "    }\n",
       "\n",
       "    .dataframe thead th {\n",
       "        text-align: right;\n",
       "    }\n",
       "</style>\n",
       "<table border=\"1\" class=\"dataframe\">\n",
       "  <thead>\n",
       "    <tr style=\"text-align: right;\">\n",
       "      <th></th>\n",
       "      <th>count</th>\n",
       "      <th>mean</th>\n",
       "      <th>std</th>\n",
       "      <th>min</th>\n",
       "      <th>25%</th>\n",
       "      <th>50%</th>\n",
       "      <th>75%</th>\n",
       "      <th>max</th>\n",
       "    </tr>\n",
       "  </thead>\n",
       "  <tbody>\n",
       "    <tr>\n",
       "      <th>MPG</th>\n",
       "      <td>314.0</td>\n",
       "      <td>23.310510</td>\n",
       "      <td>7.728652</td>\n",
       "      <td>10.0</td>\n",
       "      <td>17.00</td>\n",
       "      <td>22.0</td>\n",
       "      <td>28.95</td>\n",
       "      <td>46.6</td>\n",
       "    </tr>\n",
       "    <tr>\n",
       "      <th>Cylinders</th>\n",
       "      <td>314.0</td>\n",
       "      <td>5.477707</td>\n",
       "      <td>1.699788</td>\n",
       "      <td>3.0</td>\n",
       "      <td>4.00</td>\n",
       "      <td>4.0</td>\n",
       "      <td>8.00</td>\n",
       "      <td>8.0</td>\n",
       "    </tr>\n",
       "    <tr>\n",
       "      <th>Displacement</th>\n",
       "      <td>314.0</td>\n",
       "      <td>195.318471</td>\n",
       "      <td>104.331589</td>\n",
       "      <td>68.0</td>\n",
       "      <td>105.50</td>\n",
       "      <td>151.0</td>\n",
       "      <td>265.75</td>\n",
       "      <td>455.0</td>\n",
       "    </tr>\n",
       "    <tr>\n",
       "      <th>Horsepower</th>\n",
       "      <td>314.0</td>\n",
       "      <td>104.869427</td>\n",
       "      <td>38.096214</td>\n",
       "      <td>46.0</td>\n",
       "      <td>76.25</td>\n",
       "      <td>94.5</td>\n",
       "      <td>128.00</td>\n",
       "      <td>225.0</td>\n",
       "    </tr>\n",
       "    <tr>\n",
       "      <th>Weight</th>\n",
       "      <td>314.0</td>\n",
       "      <td>2990.251592</td>\n",
       "      <td>843.898596</td>\n",
       "      <td>1649.0</td>\n",
       "      <td>2256.50</td>\n",
       "      <td>2822.5</td>\n",
       "      <td>3608.00</td>\n",
       "      <td>5140.0</td>\n",
       "    </tr>\n",
       "    <tr>\n",
       "      <th>Acceleration</th>\n",
       "      <td>314.0</td>\n",
       "      <td>15.559236</td>\n",
       "      <td>2.789230</td>\n",
       "      <td>8.0</td>\n",
       "      <td>13.80</td>\n",
       "      <td>15.5</td>\n",
       "      <td>17.20</td>\n",
       "      <td>24.8</td>\n",
       "    </tr>\n",
       "    <tr>\n",
       "      <th>Model Year</th>\n",
       "      <td>314.0</td>\n",
       "      <td>75.898089</td>\n",
       "      <td>3.675642</td>\n",
       "      <td>70.0</td>\n",
       "      <td>73.00</td>\n",
       "      <td>76.0</td>\n",
       "      <td>79.00</td>\n",
       "      <td>82.0</td>\n",
       "    </tr>\n",
       "    <tr>\n",
       "      <th>Europe</th>\n",
       "      <td>314.0</td>\n",
       "      <td>0.178344</td>\n",
       "      <td>0.383413</td>\n",
       "      <td>0.0</td>\n",
       "      <td>0.00</td>\n",
       "      <td>0.0</td>\n",
       "      <td>0.00</td>\n",
       "      <td>1.0</td>\n",
       "    </tr>\n",
       "    <tr>\n",
       "      <th>Japan</th>\n",
       "      <td>314.0</td>\n",
       "      <td>0.197452</td>\n",
       "      <td>0.398712</td>\n",
       "      <td>0.0</td>\n",
       "      <td>0.00</td>\n",
       "      <td>0.0</td>\n",
       "      <td>0.00</td>\n",
       "      <td>1.0</td>\n",
       "    </tr>\n",
       "    <tr>\n",
       "      <th>USA</th>\n",
       "      <td>314.0</td>\n",
       "      <td>0.624204</td>\n",
       "      <td>0.485101</td>\n",
       "      <td>0.0</td>\n",
       "      <td>0.00</td>\n",
       "      <td>1.0</td>\n",
       "      <td>1.00</td>\n",
       "      <td>1.0</td>\n",
       "    </tr>\n",
       "  </tbody>\n",
       "</table>\n",
       "</div>"
      ],
      "text/plain": [
       "              count         mean         std     min      25%     50%  \\\n",
       "MPG           314.0    23.310510    7.728652    10.0    17.00    22.0   \n",
       "Cylinders     314.0     5.477707    1.699788     3.0     4.00     4.0   \n",
       "Displacement  314.0   195.318471  104.331589    68.0   105.50   151.0   \n",
       "Horsepower    314.0   104.869427   38.096214    46.0    76.25    94.5   \n",
       "Weight        314.0  2990.251592  843.898596  1649.0  2256.50  2822.5   \n",
       "Acceleration  314.0    15.559236    2.789230     8.0    13.80    15.5   \n",
       "Model Year    314.0    75.898089    3.675642    70.0    73.00    76.0   \n",
       "Europe        314.0     0.178344    0.383413     0.0     0.00     0.0   \n",
       "Japan         314.0     0.197452    0.398712     0.0     0.00     0.0   \n",
       "USA           314.0     0.624204    0.485101     0.0     0.00     1.0   \n",
       "\n",
       "                  75%     max  \n",
       "MPG             28.95    46.6  \n",
       "Cylinders        8.00     8.0  \n",
       "Displacement   265.75   455.0  \n",
       "Horsepower     128.00   225.0  \n",
       "Weight        3608.00  5140.0  \n",
       "Acceleration    17.20    24.8  \n",
       "Model Year      79.00    82.0  \n",
       "Europe           0.00     1.0  \n",
       "Japan            0.00     1.0  \n",
       "USA              1.00     1.0  "
      ]
     },
     "execution_count": 14,
     "metadata": {},
     "output_type": "execute_result"
    }
   ],
   "source": [
    "train_dataset.describe().transpose()"
   ]
  },
  {
   "cell_type": "markdown",
   "metadata": {},
   "source": [
    "### Normalize the data "
   ]
  },
  {
   "cell_type": "code",
   "execution_count": 15,
   "metadata": {},
   "outputs": [],
   "source": [
    "train_features = train_dataset.copy()\n",
    "test_features = test_dataset.copy()"
   ]
  },
  {
   "cell_type": "code",
   "execution_count": 16,
   "metadata": {},
   "outputs": [],
   "source": [
    "train_labels = train_features.pop('MPG')  # Dependent Variable ( Y)  \n",
    "test_labels = test_features.pop('MPG')  "
   ]
  },
  {
   "cell_type": "code",
   "execution_count": 17,
   "metadata": {},
   "outputs": [
    {
     "data": {
      "text/plain": [
       "146    28.0\n",
       "282    22.3\n",
       "69     12.0\n",
       "378    38.0\n",
       "331    33.8\n",
       "       ... \n",
       "281    19.8\n",
       "229    16.0\n",
       "150    26.0\n",
       "145    32.0\n",
       "182    28.0\n",
       "Name: MPG, Length: 314, dtype: float64"
      ]
     },
     "execution_count": 17,
     "metadata": {},
     "output_type": "execute_result"
    }
   ],
   "source": [
    "train_labels  # Dependent Variable ( Y)"
   ]
  },
  {
   "cell_type": "code",
   "execution_count": 18,
   "metadata": {},
   "outputs": [
    {
     "data": {
      "text/html": [
       "<div>\n",
       "<style scoped>\n",
       "    .dataframe tbody tr th:only-of-type {\n",
       "        vertical-align: middle;\n",
       "    }\n",
       "\n",
       "    .dataframe tbody tr th {\n",
       "        vertical-align: top;\n",
       "    }\n",
       "\n",
       "    .dataframe thead th {\n",
       "        text-align: right;\n",
       "    }\n",
       "</style>\n",
       "<table border=\"1\" class=\"dataframe\">\n",
       "  <thead>\n",
       "    <tr style=\"text-align: right;\">\n",
       "      <th></th>\n",
       "      <th>Cylinders</th>\n",
       "      <th>Displacement</th>\n",
       "      <th>Horsepower</th>\n",
       "      <th>Weight</th>\n",
       "      <th>Acceleration</th>\n",
       "      <th>Model Year</th>\n",
       "      <th>Europe</th>\n",
       "      <th>Japan</th>\n",
       "      <th>USA</th>\n",
       "    </tr>\n",
       "  </thead>\n",
       "  <tbody>\n",
       "    <tr>\n",
       "      <th>146</th>\n",
       "      <td>4</td>\n",
       "      <td>90.0</td>\n",
       "      <td>75.0</td>\n",
       "      <td>2125</td>\n",
       "      <td>14.5</td>\n",
       "      <td>74</td>\n",
       "      <td>0</td>\n",
       "      <td>0</td>\n",
       "      <td>1</td>\n",
       "    </tr>\n",
       "    <tr>\n",
       "      <th>282</th>\n",
       "      <td>4</td>\n",
       "      <td>140.0</td>\n",
       "      <td>88.0</td>\n",
       "      <td>2890</td>\n",
       "      <td>17.3</td>\n",
       "      <td>79</td>\n",
       "      <td>0</td>\n",
       "      <td>0</td>\n",
       "      <td>1</td>\n",
       "    </tr>\n",
       "    <tr>\n",
       "      <th>69</th>\n",
       "      <td>8</td>\n",
       "      <td>350.0</td>\n",
       "      <td>160.0</td>\n",
       "      <td>4456</td>\n",
       "      <td>13.5</td>\n",
       "      <td>72</td>\n",
       "      <td>0</td>\n",
       "      <td>0</td>\n",
       "      <td>1</td>\n",
       "    </tr>\n",
       "    <tr>\n",
       "      <th>378</th>\n",
       "      <td>4</td>\n",
       "      <td>105.0</td>\n",
       "      <td>63.0</td>\n",
       "      <td>2125</td>\n",
       "      <td>14.7</td>\n",
       "      <td>82</td>\n",
       "      <td>0</td>\n",
       "      <td>0</td>\n",
       "      <td>1</td>\n",
       "    </tr>\n",
       "    <tr>\n",
       "      <th>331</th>\n",
       "      <td>4</td>\n",
       "      <td>97.0</td>\n",
       "      <td>67.0</td>\n",
       "      <td>2145</td>\n",
       "      <td>18.0</td>\n",
       "      <td>80</td>\n",
       "      <td>0</td>\n",
       "      <td>1</td>\n",
       "      <td>0</td>\n",
       "    </tr>\n",
       "  </tbody>\n",
       "</table>\n",
       "</div>"
      ],
      "text/plain": [
       "     Cylinders  Displacement  Horsepower  Weight  Acceleration  Model Year  \\\n",
       "146          4          90.0        75.0    2125          14.5          74   \n",
       "282          4         140.0        88.0    2890          17.3          79   \n",
       "69           8         350.0       160.0    4456          13.5          72   \n",
       "378          4         105.0        63.0    2125          14.7          82   \n",
       "331          4          97.0        67.0    2145          18.0          80   \n",
       "\n",
       "     Europe  Japan  USA  \n",
       "146       0      0    1  \n",
       "282       0      0    1  \n",
       "69        0      0    1  \n",
       "378       0      0    1  \n",
       "331       0      1    0  "
      ]
     },
     "execution_count": 18,
     "metadata": {},
     "output_type": "execute_result"
    }
   ],
   "source": [
    "train_features.head() # independent Variable = X"
   ]
  },
  {
   "cell_type": "code",
   "execution_count": 19,
   "metadata": {},
   "outputs": [],
   "source": [
    "normalizer = preprocessing.Normalization()  # scaling or z-score or normally distibuted z = data-mean/standard deviation"
   ]
  },
  {
   "cell_type": "code",
   "execution_count": 20,
   "metadata": {},
   "outputs": [],
   "source": [
    "normalizer.adapt(np.array(train_features))  ### convert to array then normalizing "
   ]
  },
  {
   "cell_type": "code",
   "execution_count": 21,
   "metadata": {
    "scrolled": true
   },
   "outputs": [
    {
     "name": "stdout",
     "output_type": "stream",
     "text": [
      "First example: [[   4.    90.    75.  2125.    14.5   74.     0.     0.     1. ]]\n",
      "\n",
      "Normalized: [[-0.87 -1.01 -0.79 -1.03 -0.38 -0.52 -0.47 -0.5   0.78]]\n"
     ]
    }
   ],
   "source": [
    "first = np.array(train_features[:1])\n",
    "\n",
    "with np.printoptions(precision=2): # 2 decimal upto \n",
    "    print('First example:', first)\n",
    "    print()\n",
    "    print('Normalized:', normalizer(first).numpy())"
   ]
  },
  {
   "cell_type": "markdown",
   "metadata": {},
   "source": [
    "### Method 1 - Linear Model\n",
    "\n",
    "* dense means layer and output means prediction and param =10 means = 9x and 1 bias"
   ]
  },
  {
   "cell_type": "code",
   "execution_count": 22,
   "metadata": {},
   "outputs": [
    {
     "name": "stdout",
     "output_type": "stream",
     "text": [
      "Model: \"sequential\"\n",
      "_________________________________________________________________\n",
      " Layer (type)                Output Shape              Param #   \n",
      "=================================================================\n",
      " normalization (Normalizatio  (None, 9)                19        \n",
      " n)                                                              \n",
      "                                                                 \n",
      " dense (Dense)               (None, 1)                 10        \n",
      "                                                                 \n",
      "=================================================================\n",
      "Total params: 29\n",
      "Trainable params: 10\n",
      "Non-trainable params: 19\n",
      "_________________________________________________________________\n"
     ]
    }
   ],
   "source": [
    "linear_model = keras.Sequential([normalizer,layers.Dense(units=1,activation=\"linear\",use_bias=1)])  # unit 1 means = 1 nuerons\n",
    "linear_model.summary()"
   ]
  },
  {
   "cell_type": "markdown",
   "metadata": {},
   "source": [
    "* Learning rate = 0 to 1 "
   ]
  },
  {
   "cell_type": "code",
   "execution_count": 23,
   "metadata": {},
   "outputs": [],
   "source": [
    "linear_model.compile(optimizer=tf.optimizers.SGD(learning_rate=0.1),loss='mean_absolute_error')"
   ]
  },
  {
   "cell_type": "markdown",
   "metadata": {},
   "source": [
    "### Repetation of Process"
   ]
  },
  {
   "cell_type": "markdown",
   "metadata": {},
   "source": [
    "* Train = 60% (253 ROW)  \n",
    "* Validation = 20% of train ( 63 ROW) \n",
    "* Test = 20%"
   ]
  },
  {
   "cell_type": "code",
   "execution_count": 24,
   "metadata": {},
   "outputs": [
    {
     "name": "stdout",
     "output_type": "stream",
     "text": [
      "Epoch 1/100\n",
      "8/8 [==============================] - 1s 50ms/step - loss: 22.8429 - val_loss: 23.0627\n",
      "Epoch 2/100\n",
      "8/8 [==============================] - 0s 13ms/step - loss: 22.0371 - val_loss: 22.2740\n",
      "Epoch 3/100\n",
      "8/8 [==============================] - 0s 12ms/step - loss: 21.2368 - val_loss: 21.4858\n",
      "Epoch 4/100\n",
      "8/8 [==============================] - 0s 7ms/step - loss: 20.4346 - val_loss: 20.6982\n",
      "Epoch 5/100\n",
      "8/8 [==============================] - 0s 10ms/step - loss: 19.6262 - val_loss: 19.9096\n",
      "Epoch 6/100\n",
      "8/8 [==============================] - 0s 10ms/step - loss: 18.8297 - val_loss: 19.1219\n",
      "Epoch 7/100\n",
      "8/8 [==============================] - 0s 12ms/step - loss: 18.0262 - val_loss: 18.3348\n",
      "Epoch 8/100\n",
      "8/8 [==============================] - 0s 17ms/step - loss: 17.2200 - val_loss: 17.5476\n",
      "Epoch 9/100\n",
      "8/8 [==============================] - 0s 15ms/step - loss: 16.4252 - val_loss: 16.7611\n",
      "Epoch 10/100\n",
      "8/8 [==============================] - 0s 10ms/step - loss: 15.6149 - val_loss: 15.9731\n",
      "Epoch 11/100\n",
      "8/8 [==============================] - 0s 10ms/step - loss: 14.8085 - val_loss: 15.1931\n",
      "Epoch 12/100\n",
      "8/8 [==============================] - 0s 8ms/step - loss: 14.0169 - val_loss: 14.4365\n",
      "Epoch 13/100\n",
      "8/8 [==============================] - 0s 9ms/step - loss: 13.2368 - val_loss: 13.6814\n",
      "Epoch 14/100\n",
      "8/8 [==============================] - 0s 12ms/step - loss: 12.4769 - val_loss: 12.9322\n",
      "Epoch 15/100\n",
      "8/8 [==============================] - 0s 17ms/step - loss: 11.7246 - val_loss: 12.1884\n",
      "Epoch 16/100\n",
      "8/8 [==============================] - 0s 15ms/step - loss: 10.9802 - val_loss: 11.4469\n",
      "Epoch 17/100\n",
      "8/8 [==============================] - 0s 11ms/step - loss: 10.2482 - val_loss: 10.7130\n",
      "Epoch 18/100\n",
      "8/8 [==============================] - 0s 9ms/step - loss: 9.5217 - val_loss: 9.9839\n",
      "Epoch 19/100\n",
      "8/8 [==============================] - 0s 9ms/step - loss: 8.7803 - val_loss: 9.2499\n",
      "Epoch 20/100\n",
      "8/8 [==============================] - 0s 8ms/step - loss: 8.0803 - val_loss: 8.5329\n",
      "Epoch 21/100\n",
      "8/8 [==============================] - 0s 13ms/step - loss: 7.3786 - val_loss: 7.8187\n",
      "Epoch 22/100\n",
      "8/8 [==============================] - 0s 20ms/step - loss: 6.6972 - val_loss: 7.1410\n",
      "Epoch 23/100\n",
      "8/8 [==============================] - 0s 9ms/step - loss: 6.0565 - val_loss: 6.4781\n",
      "Epoch 24/100\n",
      "8/8 [==============================] - 0s 7ms/step - loss: 5.4376 - val_loss: 5.8283\n",
      "Epoch 25/100\n",
      "8/8 [==============================] - 0s 10ms/step - loss: 4.8685 - val_loss: 5.2774\n",
      "Epoch 26/100\n",
      "8/8 [==============================] - 0s 8ms/step - loss: 4.4045 - val_loss: 4.7705\n",
      "Epoch 27/100\n",
      "8/8 [==============================] - 0s 9ms/step - loss: 3.9853 - val_loss: 4.3463\n",
      "Epoch 28/100\n",
      "8/8 [==============================] - 0s 11ms/step - loss: 3.6533 - val_loss: 3.9661\n",
      "Epoch 29/100\n",
      "8/8 [==============================] - 0s 10ms/step - loss: 3.3850 - val_loss: 3.6541\n",
      "Epoch 30/100\n",
      "8/8 [==============================] - 0s 10ms/step - loss: 3.1730 - val_loss: 3.3958\n",
      "Epoch 31/100\n",
      "8/8 [==============================] - 0s 10ms/step - loss: 3.0189 - val_loss: 3.2083\n",
      "Epoch 32/100\n",
      "8/8 [==============================] - 0s 10ms/step - loss: 2.8939 - val_loss: 3.0460\n",
      "Epoch 33/100\n",
      "8/8 [==============================] - 0s 9ms/step - loss: 2.8027 - val_loss: 2.9448\n",
      "Epoch 34/100\n",
      "8/8 [==============================] - 0s 11ms/step - loss: 2.7247 - val_loss: 2.8569\n",
      "Epoch 35/100\n",
      "8/8 [==============================] - 0s 15ms/step - loss: 2.6663 - val_loss: 2.7745\n",
      "Epoch 36/100\n",
      "8/8 [==============================] - 0s 13ms/step - loss: 2.6184 - val_loss: 2.7025\n",
      "Epoch 37/100\n",
      "8/8 [==============================] - 0s 10ms/step - loss: 2.5829 - val_loss: 2.6727\n",
      "Epoch 38/100\n",
      "8/8 [==============================] - 0s 10ms/step - loss: 2.5557 - val_loss: 2.6276\n",
      "Epoch 39/100\n",
      "8/8 [==============================] - 0s 10ms/step - loss: 2.5338 - val_loss: 2.6038\n",
      "Epoch 40/100\n",
      "8/8 [==============================] - 0s 12ms/step - loss: 2.5086 - val_loss: 2.5906\n",
      "Epoch 41/100\n",
      "8/8 [==============================] - 0s 10ms/step - loss: 2.5033 - val_loss: 2.5551\n",
      "Epoch 42/100\n",
      "8/8 [==============================] - 0s 10ms/step - loss: 2.5029 - val_loss: 2.5535\n",
      "Epoch 43/100\n",
      "8/8 [==============================] - 0s 9ms/step - loss: 2.4974 - val_loss: 2.5347\n",
      "Epoch 44/100\n",
      "8/8 [==============================] - 0s 12ms/step - loss: 2.4971 - val_loss: 2.5286\n",
      "Epoch 45/100\n",
      "8/8 [==============================] - 0s 11ms/step - loss: 2.4904 - val_loss: 2.5247\n",
      "Epoch 46/100\n",
      "8/8 [==============================] - 0s 11ms/step - loss: 2.4867 - val_loss: 2.5145\n",
      "Epoch 47/100\n",
      "8/8 [==============================] - 0s 11ms/step - loss: 2.4924 - val_loss: 2.5103\n",
      "Epoch 48/100\n",
      "8/8 [==============================] - 0s 13ms/step - loss: 2.4823 - val_loss: 2.5035\n",
      "Epoch 49/100\n",
      "8/8 [==============================] - 0s 13ms/step - loss: 2.4912 - val_loss: 2.5071\n",
      "Epoch 50/100\n",
      "8/8 [==============================] - 0s 8ms/step - loss: 2.4828 - val_loss: 2.5021\n",
      "Epoch 51/100\n",
      "8/8 [==============================] - 0s 8ms/step - loss: 2.4832 - val_loss: 2.5011\n",
      "Epoch 52/100\n",
      "8/8 [==============================] - 0s 9ms/step - loss: 2.4784 - val_loss: 2.4933\n",
      "Epoch 53/100\n",
      "8/8 [==============================] - 0s 10ms/step - loss: 2.4768 - val_loss: 2.4901\n",
      "Epoch 54/100\n",
      "8/8 [==============================] - 0s 6ms/step - loss: 2.4765 - val_loss: 2.4891\n",
      "Epoch 55/100\n",
      "8/8 [==============================] - 0s 7ms/step - loss: 2.4781 - val_loss: 2.4874\n",
      "Epoch 56/100\n",
      "8/8 [==============================] - 0s 8ms/step - loss: 2.4767 - val_loss: 2.4889\n",
      "Epoch 57/100\n",
      "8/8 [==============================] - 0s 9ms/step - loss: 2.4821 - val_loss: 2.4821\n",
      "Epoch 58/100\n",
      "8/8 [==============================] - 0s 8ms/step - loss: 2.4775 - val_loss: 2.4889\n",
      "Epoch 59/100\n",
      "8/8 [==============================] - 0s 9ms/step - loss: 2.4741 - val_loss: 2.4822\n",
      "Epoch 60/100\n",
      "8/8 [==============================] - 0s 9ms/step - loss: 2.4763 - val_loss: 2.4787\n",
      "Epoch 61/100\n",
      "8/8 [==============================] - 0s 9ms/step - loss: 2.4719 - val_loss: 2.4786\n",
      "Epoch 62/100\n",
      "8/8 [==============================] - 0s 10ms/step - loss: 2.4785 - val_loss: 2.4739\n",
      "Epoch 63/100\n",
      "8/8 [==============================] - 0s 10ms/step - loss: 2.4783 - val_loss: 2.4732\n",
      "Epoch 64/100\n",
      "8/8 [==============================] - 0s 13ms/step - loss: 2.4779 - val_loss: 2.4753\n",
      "Epoch 65/100\n",
      "8/8 [==============================] - 0s 10ms/step - loss: 2.4686 - val_loss: 2.4894\n",
      "Epoch 66/100\n",
      "8/8 [==============================] - 0s 8ms/step - loss: 2.4775 - val_loss: 2.4775\n",
      "Epoch 67/100\n",
      "8/8 [==============================] - 0s 10ms/step - loss: 2.4712 - val_loss: 2.4704\n",
      "Epoch 68/100\n",
      "8/8 [==============================] - 0s 8ms/step - loss: 2.4779 - val_loss: 2.4717\n",
      "Epoch 69/100\n",
      "8/8 [==============================] - 0s 8ms/step - loss: 2.4716 - val_loss: 2.4742\n",
      "Epoch 70/100\n",
      "8/8 [==============================] - 0s 9ms/step - loss: 2.4736 - val_loss: 2.4670\n",
      "Epoch 71/100\n",
      "8/8 [==============================] - 0s 8ms/step - loss: 2.4691 - val_loss: 2.4813\n",
      "Epoch 72/100\n",
      "8/8 [==============================] - 0s 9ms/step - loss: 2.4750 - val_loss: 2.4747\n",
      "Epoch 73/100\n",
      "8/8 [==============================] - 0s 9ms/step - loss: 2.4714 - val_loss: 2.4862\n",
      "Epoch 74/100\n",
      "8/8 [==============================] - 0s 8ms/step - loss: 2.4749 - val_loss: 2.4690\n",
      "Epoch 75/100\n",
      "8/8 [==============================] - 0s 16ms/step - loss: 2.4766 - val_loss: 2.4684\n",
      "Epoch 76/100\n",
      "8/8 [==============================] - 0s 18ms/step - loss: 2.4784 - val_loss: 2.4657\n",
      "Epoch 77/100\n",
      "8/8 [==============================] - 0s 17ms/step - loss: 2.4749 - val_loss: 2.4702\n",
      "Epoch 78/100\n",
      "8/8 [==============================] - 0s 17ms/step - loss: 2.4672 - val_loss: 2.4688\n",
      "Epoch 79/100\n",
      "8/8 [==============================] - 0s 15ms/step - loss: 2.4740 - val_loss: 2.4645\n",
      "Epoch 80/100\n",
      "8/8 [==============================] - 0s 10ms/step - loss: 2.4796 - val_loss: 2.4681\n",
      "Epoch 81/100\n",
      "8/8 [==============================] - 0s 9ms/step - loss: 2.4818 - val_loss: 2.4610\n",
      "Epoch 82/100\n",
      "8/8 [==============================] - 0s 10ms/step - loss: 2.4731 - val_loss: 2.4714\n",
      "Epoch 83/100\n",
      "8/8 [==============================] - 0s 7ms/step - loss: 2.4735 - val_loss: 2.4670\n"
     ]
    },
    {
     "name": "stdout",
     "output_type": "stream",
     "text": [
      "Epoch 84/100\n",
      "8/8 [==============================] - 0s 8ms/step - loss: 2.4707 - val_loss: 2.4687\n",
      "Epoch 85/100\n",
      "8/8 [==============================] - 0s 10ms/step - loss: 2.4724 - val_loss: 2.4762\n",
      "Epoch 86/100\n",
      "8/8 [==============================] - 0s 11ms/step - loss: 2.4744 - val_loss: 2.4707\n",
      "Epoch 87/100\n",
      "8/8 [==============================] - 0s 15ms/step - loss: 2.4743 - val_loss: 2.4637\n",
      "Epoch 88/100\n",
      "8/8 [==============================] - 0s 12ms/step - loss: 2.4797 - val_loss: 2.4610\n",
      "Epoch 89/100\n",
      "8/8 [==============================] - 0s 9ms/step - loss: 2.4719 - val_loss: 2.4641\n",
      "Epoch 90/100\n",
      "8/8 [==============================] - 0s 10ms/step - loss: 2.4708 - val_loss: 2.4622\n",
      "Epoch 91/100\n",
      "8/8 [==============================] - 0s 10ms/step - loss: 2.4776 - val_loss: 2.4631\n",
      "Epoch 92/100\n",
      "8/8 [==============================] - 0s 11ms/step - loss: 2.4836 - val_loss: 2.4751\n",
      "Epoch 93/100\n",
      "8/8 [==============================] - 0s 11ms/step - loss: 2.4750 - val_loss: 2.4711\n",
      "Epoch 94/100\n",
      "8/8 [==============================] - 0s 11ms/step - loss: 2.4728 - val_loss: 2.4652\n",
      "Epoch 95/100\n",
      "8/8 [==============================] - 0s 11ms/step - loss: 2.4730 - val_loss: 2.4618\n",
      "Epoch 96/100\n",
      "8/8 [==============================] - 0s 12ms/step - loss: 2.4701 - val_loss: 2.4643\n",
      "Epoch 97/100\n",
      "8/8 [==============================] - 0s 11ms/step - loss: 2.4674 - val_loss: 2.4610\n",
      "Epoch 98/100\n",
      "8/8 [==============================] - 0s 10ms/step - loss: 2.4739 - val_loss: 2.4631\n",
      "Epoch 99/100\n",
      "8/8 [==============================] - 0s 8ms/step - loss: 2.4689 - val_loss: 2.4610\n",
      "Epoch 100/100\n",
      "8/8 [==============================] - 0s 9ms/step - loss: 2.4747 - val_loss: 2.4614\n",
      "Wall time: 9.48 s\n"
     ]
    }
   ],
   "source": [
    "%%time\n",
    "history = linear_model.fit(\n",
    "    train_features, train_labels, \n",
    "    epochs=100, ## repetation 100\n",
    "    verbose=1, # suppress logging\n",
    "    # Calculate validation results on 20% of the training data\n",
    "    validation_split = 0.2)"
   ]
  },
  {
   "cell_type": "markdown",
   "metadata": {
    "scrolled": true
   },
   "source": [
    "hist = pd.DataFrame(history.history)\n",
    "hist['epoch'] = history.epoch\n",
    "hist.head()"
   ]
  },
  {
   "cell_type": "markdown",
   "metadata": {},
   "source": [
    "def plot_loss(history):\n",
    "  plt.plot(history.history['loss'], label='loss')\n",
    "  plt.plot(history.history['val_loss'], label='val_loss')\n",
    "  plt.ylim([0, 10])\n",
    "  plt.xlabel('Epoch')\n",
    "  plt.ylabel('Error [MPG]')\n",
    "  plt.legend()\n",
    "  plt.grid(True)\n",
    "\n",
    "plot_loss(history)"
   ]
  },
  {
   "cell_type": "code",
   "execution_count": 25,
   "metadata": {},
   "outputs": [
    {
     "data": {
      "text/plain": [
       "{'linear_model Without Hidden Layer': 2.4601354598999023}"
      ]
     },
     "execution_count": 25,
     "metadata": {},
     "output_type": "execute_result"
    }
   ],
   "source": [
    "train_results = {}\n",
    "train_results['linear_model Without Hidden Layer']= linear_model.evaluate(train_features, train_labels, verbose=0)\n",
    "train_results"
   ]
  },
  {
   "cell_type": "code",
   "execution_count": 26,
   "metadata": {},
   "outputs": [
    {
     "data": {
      "text/plain": [
       "{'linear_model Without Hidden Layer': 2.507197618484497}"
      ]
     },
     "execution_count": 26,
     "metadata": {},
     "output_type": "execute_result"
    }
   ],
   "source": [
    "test_results = {}\n",
    "test_results['linear_model Without Hidden Layer'] = linear_model.evaluate(test_features, test_labels, verbose=0)\n",
    "test_results"
   ]
  },
  {
   "cell_type": "code",
   "execution_count": 27,
   "metadata": {},
   "outputs": [
    {
     "data": {
      "text/html": [
       "<div>\n",
       "<style scoped>\n",
       "    .dataframe tbody tr th:only-of-type {\n",
       "        vertical-align: middle;\n",
       "    }\n",
       "\n",
       "    .dataframe tbody tr th {\n",
       "        vertical-align: top;\n",
       "    }\n",
       "\n",
       "    .dataframe thead th {\n",
       "        text-align: right;\n",
       "    }\n",
       "</style>\n",
       "<table border=\"1\" class=\"dataframe\">\n",
       "  <thead>\n",
       "    <tr style=\"text-align: right;\">\n",
       "      <th></th>\n",
       "      <th>Cylinders</th>\n",
       "      <th>Displacement</th>\n",
       "      <th>Horsepower</th>\n",
       "      <th>Weight</th>\n",
       "      <th>Acceleration</th>\n",
       "      <th>Model Year</th>\n",
       "      <th>Europe</th>\n",
       "      <th>Japan</th>\n",
       "      <th>USA</th>\n",
       "      <th>MPG</th>\n",
       "    </tr>\n",
       "  </thead>\n",
       "  <tbody>\n",
       "    <tr>\n",
       "      <th>146</th>\n",
       "      <td>4</td>\n",
       "      <td>90.0</td>\n",
       "      <td>75.0</td>\n",
       "      <td>2125</td>\n",
       "      <td>14.5</td>\n",
       "      <td>74</td>\n",
       "      <td>0</td>\n",
       "      <td>0</td>\n",
       "      <td>1</td>\n",
       "      <td>28.0</td>\n",
       "    </tr>\n",
       "    <tr>\n",
       "      <th>282</th>\n",
       "      <td>4</td>\n",
       "      <td>140.0</td>\n",
       "      <td>88.0</td>\n",
       "      <td>2890</td>\n",
       "      <td>17.3</td>\n",
       "      <td>79</td>\n",
       "      <td>0</td>\n",
       "      <td>0</td>\n",
       "      <td>1</td>\n",
       "      <td>22.3</td>\n",
       "    </tr>\n",
       "    <tr>\n",
       "      <th>69</th>\n",
       "      <td>8</td>\n",
       "      <td>350.0</td>\n",
       "      <td>160.0</td>\n",
       "      <td>4456</td>\n",
       "      <td>13.5</td>\n",
       "      <td>72</td>\n",
       "      <td>0</td>\n",
       "      <td>0</td>\n",
       "      <td>1</td>\n",
       "      <td>12.0</td>\n",
       "    </tr>\n",
       "    <tr>\n",
       "      <th>378</th>\n",
       "      <td>4</td>\n",
       "      <td>105.0</td>\n",
       "      <td>63.0</td>\n",
       "      <td>2125</td>\n",
       "      <td>14.7</td>\n",
       "      <td>82</td>\n",
       "      <td>0</td>\n",
       "      <td>0</td>\n",
       "      <td>1</td>\n",
       "      <td>38.0</td>\n",
       "    </tr>\n",
       "    <tr>\n",
       "      <th>331</th>\n",
       "      <td>4</td>\n",
       "      <td>97.0</td>\n",
       "      <td>67.0</td>\n",
       "      <td>2145</td>\n",
       "      <td>18.0</td>\n",
       "      <td>80</td>\n",
       "      <td>0</td>\n",
       "      <td>1</td>\n",
       "      <td>0</td>\n",
       "      <td>33.8</td>\n",
       "    </tr>\n",
       "  </tbody>\n",
       "</table>\n",
       "</div>"
      ],
      "text/plain": [
       "     Cylinders  Displacement  Horsepower  Weight  Acceleration  Model Year  \\\n",
       "146          4          90.0        75.0    2125          14.5          74   \n",
       "282          4         140.0        88.0    2890          17.3          79   \n",
       "69           8         350.0       160.0    4456          13.5          72   \n",
       "378          4         105.0        63.0    2125          14.7          82   \n",
       "331          4          97.0        67.0    2145          18.0          80   \n",
       "\n",
       "     Europe  Japan  USA   MPG  \n",
       "146       0      0    1  28.0  \n",
       "282       0      0    1  22.3  \n",
       "69        0      0    1  12.0  \n",
       "378       0      0    1  38.0  \n",
       "331       0      1    0  33.8  "
      ]
     },
     "execution_count": 27,
     "metadata": {},
     "output_type": "execute_result"
    }
   ],
   "source": [
    "train_full=pd.concat([train_features,train_labels],axis=1)\n",
    "train_full.head()"
   ]
  },
  {
   "cell_type": "code",
   "execution_count": 28,
   "metadata": {},
   "outputs": [
    {
     "name": "stdout",
     "output_type": "stream",
     "text": [
      "10/10 [==============================] - 0s 2ms/step\n"
     ]
    },
    {
     "data": {
      "text/html": [
       "<div>\n",
       "<style scoped>\n",
       "    .dataframe tbody tr th:only-of-type {\n",
       "        vertical-align: middle;\n",
       "    }\n",
       "\n",
       "    .dataframe tbody tr th {\n",
       "        vertical-align: top;\n",
       "    }\n",
       "\n",
       "    .dataframe thead th {\n",
       "        text-align: right;\n",
       "    }\n",
       "</style>\n",
       "<table border=\"1\" class=\"dataframe\">\n",
       "  <thead>\n",
       "    <tr style=\"text-align: right;\">\n",
       "      <th></th>\n",
       "      <th>Cylinders</th>\n",
       "      <th>Displacement</th>\n",
       "      <th>Horsepower</th>\n",
       "      <th>Weight</th>\n",
       "      <th>Acceleration</th>\n",
       "      <th>Model Year</th>\n",
       "      <th>Europe</th>\n",
       "      <th>Japan</th>\n",
       "      <th>USA</th>\n",
       "      <th>MPG</th>\n",
       "      <th>Prediction</th>\n",
       "    </tr>\n",
       "  </thead>\n",
       "  <tbody>\n",
       "    <tr>\n",
       "      <th>146</th>\n",
       "      <td>4</td>\n",
       "      <td>90.0</td>\n",
       "      <td>75.0</td>\n",
       "      <td>2125</td>\n",
       "      <td>14.5</td>\n",
       "      <td>74</td>\n",
       "      <td>0</td>\n",
       "      <td>0</td>\n",
       "      <td>1</td>\n",
       "      <td>28.0</td>\n",
       "      <td>26.164516</td>\n",
       "    </tr>\n",
       "    <tr>\n",
       "      <th>282</th>\n",
       "      <td>4</td>\n",
       "      <td>140.0</td>\n",
       "      <td>88.0</td>\n",
       "      <td>2890</td>\n",
       "      <td>17.3</td>\n",
       "      <td>79</td>\n",
       "      <td>0</td>\n",
       "      <td>0</td>\n",
       "      <td>1</td>\n",
       "      <td>22.3</td>\n",
       "      <td>24.834150</td>\n",
       "    </tr>\n",
       "    <tr>\n",
       "      <th>69</th>\n",
       "      <td>8</td>\n",
       "      <td>350.0</td>\n",
       "      <td>160.0</td>\n",
       "      <td>4456</td>\n",
       "      <td>13.5</td>\n",
       "      <td>72</td>\n",
       "      <td>0</td>\n",
       "      <td>0</td>\n",
       "      <td>1</td>\n",
       "      <td>12.0</td>\n",
       "      <td>12.232173</td>\n",
       "    </tr>\n",
       "    <tr>\n",
       "      <th>378</th>\n",
       "      <td>4</td>\n",
       "      <td>105.0</td>\n",
       "      <td>63.0</td>\n",
       "      <td>2125</td>\n",
       "      <td>14.7</td>\n",
       "      <td>82</td>\n",
       "      <td>0</td>\n",
       "      <td>0</td>\n",
       "      <td>1</td>\n",
       "      <td>38.0</td>\n",
       "      <td>31.222271</td>\n",
       "    </tr>\n",
       "    <tr>\n",
       "      <th>331</th>\n",
       "      <td>4</td>\n",
       "      <td>97.0</td>\n",
       "      <td>67.0</td>\n",
       "      <td>2145</td>\n",
       "      <td>18.0</td>\n",
       "      <td>80</td>\n",
       "      <td>0</td>\n",
       "      <td>1</td>\n",
       "      <td>0</td>\n",
       "      <td>33.8</td>\n",
       "      <td>32.320309</td>\n",
       "    </tr>\n",
       "  </tbody>\n",
       "</table>\n",
       "</div>"
      ],
      "text/plain": [
       "     Cylinders  Displacement  Horsepower  Weight  Acceleration  Model Year  \\\n",
       "146          4          90.0        75.0    2125          14.5          74   \n",
       "282          4         140.0        88.0    2890          17.3          79   \n",
       "69           8         350.0       160.0    4456          13.5          72   \n",
       "378          4         105.0        63.0    2125          14.7          82   \n",
       "331          4          97.0        67.0    2145          18.0          80   \n",
       "\n",
       "     Europe  Japan  USA   MPG  Prediction  \n",
       "146       0      0    1  28.0   26.164516  \n",
       "282       0      0    1  22.3   24.834150  \n",
       "69        0      0    1  12.0   12.232173  \n",
       "378       0      0    1  38.0   31.222271  \n",
       "331       0      1    0  33.8   32.320309  "
      ]
     },
     "execution_count": 28,
     "metadata": {},
     "output_type": "execute_result"
    }
   ],
   "source": [
    "train_full[\"Prediction\"]=linear_model.predict(train_features)\n",
    "train_full.head()"
   ]
  },
  {
   "cell_type": "markdown",
   "metadata": {},
   "source": [
    "# Another Model"
   ]
  },
  {
   "cell_type": "markdown",
   "metadata": {},
   "source": [
    "pip install tensorflow"
   ]
  },
  {
   "cell_type": "code",
   "execution_count": 30,
   "metadata": {},
   "outputs": [],
   "source": [
    "from keras.models import Sequential\n",
    "from keras.layers import Dense , Dropout"
   ]
  },
  {
   "cell_type": "code",
   "execution_count": 33,
   "metadata": {},
   "outputs": [],
   "source": [
    "def build_and_compile_model(norm):\n",
    "    model = keras.Sequential([norm,\n",
    "      layers.Dense(64, activation='relu'),#hidden layer -1 with 64 nuerons &  relu = 0 & 1 \n",
    "      layers.Dense(128, activation='relu'),#hidden layer -2 with 128 nuerons\n",
    "      layers.Dense(1, activation='linear') # outer layer with 1-nuerons \n",
    "  ])\n",
    "\n",
    "    model.compile(loss='mean_absolute_error',   # MAE \n",
    "                optimizer=tf.keras.optimizers.SGD(0.01)) # instead of Adam use SGB\n",
    "    return model\n",
    "\n",
    "# activation function = 'relu' or 'linear'"
   ]
  },
  {
   "cell_type": "code",
   "execution_count": 36,
   "metadata": {},
   "outputs": [
    {
     "name": "stdout",
     "output_type": "stream",
     "text": [
      "Model: \"sequential_2\"\n",
      "_________________________________________________________________\n",
      " Layer (type)                Output Shape              Param #   \n",
      "=================================================================\n",
      " normalization (Normalizatio  (None, 9)                19        \n",
      " n)                                                              \n",
      "                                                                 \n",
      " dense_4 (Dense)             (None, 64)                640       \n",
      "                                                                 \n",
      " dense_5 (Dense)             (None, 128)               8320      \n",
      "                                                                 \n",
      " dense_6 (Dense)             (None, 1)                 129       \n",
      "                                                                 \n",
      "=================================================================\n",
      "Total params: 9,108\n",
      "Trainable params: 9,089\n",
      "Non-trainable params: 19\n",
      "_________________________________________________________________\n"
     ]
    }
   ],
   "source": [
    "dnn_model = build_and_compile_model(normalizer)\n",
    "\n",
    "dnn_model.summary()"
   ]
  },
  {
   "cell_type": "code",
   "execution_count": 37,
   "metadata": {
    "collapsed": true
   },
   "outputs": [
    {
     "name": "stdout",
     "output_type": "stream",
     "text": [
      "Epoch 1/100\n",
      "8/8 [==============================] - 1s 46ms/step - loss: 23.0925 - val_loss: 23.2742\n",
      "Epoch 2/100\n",
      "8/8 [==============================] - 0s 12ms/step - loss: 22.5218 - val_loss: 22.6497\n",
      "Epoch 3/100\n",
      "8/8 [==============================] - 0s 20ms/step - loss: 21.8894 - val_loss: 21.9146\n",
      "Epoch 4/100\n",
      "8/8 [==============================] - 0s 24ms/step - loss: 21.1121 - val_loss: 20.9636\n",
      "Epoch 5/100\n",
      "8/8 [==============================] - 0s 14ms/step - loss: 20.0690 - val_loss: 19.6265\n",
      "Epoch 6/100\n",
      "8/8 [==============================] - 0s 17ms/step - loss: 18.5406 - val_loss: 17.5674\n",
      "Epoch 7/100\n",
      "8/8 [==============================] - 0s 16ms/step - loss: 16.2350 - val_loss: 15.0021\n",
      "Epoch 8/100\n",
      "8/8 [==============================] - 0s 17ms/step - loss: 13.6563 - val_loss: 12.2423\n",
      "Epoch 9/100\n",
      "8/8 [==============================] - 0s 14ms/step - loss: 10.4986 - val_loss: 7.9612\n",
      "Epoch 10/100\n",
      "8/8 [==============================] - 0s 13ms/step - loss: 6.4885 - val_loss: 5.1696\n",
      "Epoch 11/100\n",
      "8/8 [==============================] - 0s 20ms/step - loss: 4.9052 - val_loss: 4.2864\n",
      "Epoch 12/100\n",
      "8/8 [==============================] - 0s 28ms/step - loss: 4.0034 - val_loss: 3.6285\n",
      "Epoch 13/100\n",
      "8/8 [==============================] - 0s 19ms/step - loss: 3.2359 - val_loss: 3.1304\n",
      "Epoch 14/100\n",
      "8/8 [==============================] - 0s 24ms/step - loss: 2.8034 - val_loss: 2.7840\n",
      "Epoch 15/100\n",
      "8/8 [==============================] - 0s 15ms/step - loss: 2.5667 - val_loss: 2.6869\n",
      "Epoch 16/100\n",
      "8/8 [==============================] - 0s 25ms/step - loss: 2.3689 - val_loss: 2.5042\n",
      "Epoch 17/100\n",
      "8/8 [==============================] - 0s 14ms/step - loss: 2.2496 - val_loss: 2.5077\n",
      "Epoch 18/100\n",
      "8/8 [==============================] - 0s 16ms/step - loss: 2.2143 - val_loss: 2.3539\n",
      "Epoch 19/100\n",
      "8/8 [==============================] - 0s 14ms/step - loss: 2.1239 - val_loss: 2.4096\n",
      "Epoch 20/100\n",
      "8/8 [==============================] - 0s 13ms/step - loss: 2.1119 - val_loss: 2.3044\n",
      "Epoch 21/100\n",
      "8/8 [==============================] - 0s 10ms/step - loss: 2.0611 - val_loss: 2.3235\n",
      "Epoch 22/100\n",
      "8/8 [==============================] - 0s 10ms/step - loss: 2.0434 - val_loss: 2.2435\n",
      "Epoch 23/100\n",
      "8/8 [==============================] - 0s 13ms/step - loss: 2.0402 - val_loss: 2.2518\n",
      "Epoch 24/100\n",
      "8/8 [==============================] - 0s 8ms/step - loss: 1.9841 - val_loss: 2.2263\n",
      "Epoch 25/100\n",
      "8/8 [==============================] - 0s 12ms/step - loss: 1.9680 - val_loss: 2.2068\n",
      "Epoch 26/100\n",
      "8/8 [==============================] - 0s 8ms/step - loss: 1.9890 - val_loss: 2.3342\n",
      "Epoch 27/100\n",
      "8/8 [==============================] - 0s 11ms/step - loss: 2.0019 - val_loss: 2.3217\n",
      "Epoch 28/100\n",
      "8/8 [==============================] - 0s 25ms/step - loss: 1.9911 - val_loss: 2.2202\n",
      "Epoch 29/100\n",
      "8/8 [==============================] - 0s 14ms/step - loss: 1.9659 - val_loss: 2.1553\n",
      "Epoch 30/100\n",
      "8/8 [==============================] - 0s 24ms/step - loss: 1.9686 - val_loss: 2.2286\n",
      "Epoch 31/100\n",
      "8/8 [==============================] - 0s 26ms/step - loss: 1.8902 - val_loss: 2.2828\n",
      "Epoch 32/100\n",
      "8/8 [==============================] - 0s 12ms/step - loss: 1.9736 - val_loss: 2.1550\n",
      "Epoch 33/100\n",
      "8/8 [==============================] - 0s 16ms/step - loss: 1.9387 - val_loss: 2.3389\n",
      "Epoch 34/100\n",
      "8/8 [==============================] - 0s 10ms/step - loss: 1.9256 - val_loss: 2.2200\n",
      "Epoch 35/100\n",
      "8/8 [==============================] - 0s 11ms/step - loss: 1.8602 - val_loss: 2.2094\n",
      "Epoch 36/100\n",
      "8/8 [==============================] - 0s 17ms/step - loss: 1.8919 - val_loss: 2.1622\n",
      "Epoch 37/100\n",
      "8/8 [==============================] - 0s 19ms/step - loss: 1.8615 - val_loss: 2.2588\n",
      "Epoch 38/100\n",
      "8/8 [==============================] - 0s 22ms/step - loss: 1.8496 - val_loss: 2.1713\n",
      "Epoch 39/100\n",
      "8/8 [==============================] - 0s 15ms/step - loss: 1.8872 - val_loss: 2.1715\n",
      "Epoch 40/100\n",
      "8/8 [==============================] - 0s 16ms/step - loss: 1.8115 - val_loss: 2.1946\n",
      "Epoch 41/100\n",
      "8/8 [==============================] - 0s 12ms/step - loss: 1.8744 - val_loss: 2.1572\n",
      "Epoch 42/100\n",
      "8/8 [==============================] - 0s 10ms/step - loss: 1.8799 - val_loss: 2.2237\n",
      "Epoch 43/100\n",
      "8/8 [==============================] - 0s 10ms/step - loss: 1.8408 - val_loss: 2.1625\n",
      "Epoch 44/100\n",
      "8/8 [==============================] - 0s 14ms/step - loss: 1.8224 - val_loss: 2.1932\n",
      "Epoch 45/100\n",
      "8/8 [==============================] - 0s 9ms/step - loss: 1.8217 - val_loss: 2.1470\n",
      "Epoch 46/100\n",
      "8/8 [==============================] - 0s 13ms/step - loss: 1.8619 - val_loss: 2.3265\n",
      "Epoch 47/100\n",
      "8/8 [==============================] - 0s 23ms/step - loss: 1.8715 - val_loss: 2.1880\n",
      "Epoch 48/100\n",
      "8/8 [==============================] - 0s 19ms/step - loss: 1.8759 - val_loss: 2.1692\n",
      "Epoch 49/100\n",
      "8/8 [==============================] - 0s 17ms/step - loss: 1.8604 - val_loss: 2.1541\n",
      "Epoch 50/100\n",
      "8/8 [==============================] - 0s 25ms/step - loss: 1.7602 - val_loss: 2.2319\n",
      "Epoch 51/100\n",
      "8/8 [==============================] - 0s 13ms/step - loss: 1.7867 - val_loss: 2.1672\n",
      "Epoch 52/100\n",
      "8/8 [==============================] - 0s 15ms/step - loss: 1.8446 - val_loss: 2.2187\n",
      "Epoch 53/100\n",
      "8/8 [==============================] - 0s 14ms/step - loss: 1.7726 - val_loss: 2.4829\n",
      "Epoch 54/100\n",
      "8/8 [==============================] - 0s 12ms/step - loss: 1.8223 - val_loss: 2.1424\n",
      "Epoch 55/100\n",
      "8/8 [==============================] - 0s 6ms/step - loss: 1.8024 - val_loss: 2.1347\n",
      "Epoch 56/100\n",
      "8/8 [==============================] - 0s 6ms/step - loss: 1.7477 - val_loss: 2.4616\n",
      "Epoch 57/100\n",
      "8/8 [==============================] - 0s 5ms/step - loss: 1.7680 - val_loss: 2.2184\n",
      "Epoch 58/100\n",
      "8/8 [==============================] - 0s 8ms/step - loss: 1.7731 - val_loss: 2.1268\n",
      "Epoch 59/100\n",
      "8/8 [==============================] - 0s 8ms/step - loss: 1.8302 - val_loss: 2.2438\n",
      "Epoch 60/100\n",
      "8/8 [==============================] - 0s 6ms/step - loss: 1.7843 - val_loss: 2.1777\n",
      "Epoch 61/100\n",
      "8/8 [==============================] - 0s 5ms/step - loss: 1.7372 - val_loss: 2.1765\n",
      "Epoch 62/100\n",
      "8/8 [==============================] - 0s 6ms/step - loss: 1.7638 - val_loss: 2.4409\n",
      "Epoch 63/100\n",
      "8/8 [==============================] - 0s 6ms/step - loss: 1.7572 - val_loss: 2.1400\n",
      "Epoch 64/100\n",
      "8/8 [==============================] - 0s 8ms/step - loss: 1.7676 - val_loss: 2.2878\n",
      "Epoch 65/100\n",
      "8/8 [==============================] - 0s 8ms/step - loss: 1.7621 - val_loss: 2.1912\n",
      "Epoch 66/100\n",
      "8/8 [==============================] - 0s 11ms/step - loss: 1.7407 - val_loss: 2.3053\n",
      "Epoch 67/100\n",
      "8/8 [==============================] - 0s 6ms/step - loss: 1.7325 - val_loss: 2.3426\n",
      "Epoch 68/100\n",
      "8/8 [==============================] - 0s 5ms/step - loss: 1.7829 - val_loss: 2.1961\n",
      "Epoch 69/100\n",
      "8/8 [==============================] - 0s 6ms/step - loss: 1.7021 - val_loss: 2.1933\n",
      "Epoch 70/100\n",
      "8/8 [==============================] - 0s 6ms/step - loss: 1.7662 - val_loss: 2.1649\n",
      "Epoch 71/100\n",
      "8/8 [==============================] - 0s 6ms/step - loss: 1.7332 - val_loss: 2.1566\n",
      "Epoch 72/100\n",
      "8/8 [==============================] - 0s 6ms/step - loss: 1.7168 - val_loss: 2.5183\n",
      "Epoch 73/100\n",
      "8/8 [==============================] - 0s 5ms/step - loss: 1.7968 - val_loss: 2.1988\n",
      "Epoch 74/100\n",
      "8/8 [==============================] - 0s 5ms/step - loss: 1.7350 - val_loss: 2.1709\n",
      "Epoch 75/100\n",
      "8/8 [==============================] - 0s 5ms/step - loss: 1.7161 - val_loss: 2.2671\n",
      "Epoch 76/100\n",
      "8/8 [==============================] - 0s 5ms/step - loss: 1.7478 - val_loss: 2.2121\n",
      "Epoch 77/100\n",
      "8/8 [==============================] - 0s 6ms/step - loss: 1.6864 - val_loss: 2.3357\n",
      "Epoch 78/100\n",
      "8/8 [==============================] - 0s 5ms/step - loss: 1.6946 - val_loss: 2.1762\n",
      "Epoch 79/100\n",
      "8/8 [==============================] - 0s 6ms/step - loss: 1.7305 - val_loss: 2.1466\n",
      "Epoch 80/100\n",
      "8/8 [==============================] - 0s 5ms/step - loss: 1.7123 - val_loss: 2.2486\n",
      "Epoch 81/100\n",
      "8/8 [==============================] - 0s 5ms/step - loss: 1.7337 - val_loss: 2.3170\n",
      "Epoch 82/100\n",
      "8/8 [==============================] - 0s 5ms/step - loss: 1.7291 - val_loss: 2.4256\n",
      "Epoch 83/100\n",
      "8/8 [==============================] - 0s 5ms/step - loss: 1.7601 - val_loss: 2.2699\n"
     ]
    },
    {
     "name": "stdout",
     "output_type": "stream",
     "text": [
      "Epoch 84/100\n",
      "8/8 [==============================] - 0s 5ms/step - loss: 1.7243 - val_loss: 2.1230\n",
      "Epoch 85/100\n",
      "8/8 [==============================] - 0s 5ms/step - loss: 1.6970 - val_loss: 2.2645\n",
      "Epoch 86/100\n",
      "8/8 [==============================] - 0s 5ms/step - loss: 1.6846 - val_loss: 2.1246\n",
      "Epoch 87/100\n",
      "8/8 [==============================] - 0s 6ms/step - loss: 1.7284 - val_loss: 2.3074\n",
      "Epoch 88/100\n",
      "8/8 [==============================] - 0s 5ms/step - loss: 1.6596 - val_loss: 2.1112\n",
      "Epoch 89/100\n",
      "8/8 [==============================] - 0s 8ms/step - loss: 1.7212 - val_loss: 2.1960\n",
      "Epoch 90/100\n",
      "8/8 [==============================] - 0s 10ms/step - loss: 1.7114 - val_loss: 2.1557\n",
      "Epoch 91/100\n",
      "8/8 [==============================] - 0s 6ms/step - loss: 1.6817 - val_loss: 2.2739\n",
      "Epoch 92/100\n",
      "8/8 [==============================] - 0s 8ms/step - loss: 1.6919 - val_loss: 2.1957\n",
      "Epoch 93/100\n",
      "8/8 [==============================] - 0s 5ms/step - loss: 1.6487 - val_loss: 2.2393\n",
      "Epoch 94/100\n",
      "8/8 [==============================] - 0s 6ms/step - loss: 1.6880 - val_loss: 2.1100\n",
      "Epoch 95/100\n",
      "8/8 [==============================] - 0s 5ms/step - loss: 1.6727 - val_loss: 2.0708\n",
      "Epoch 96/100\n",
      "8/8 [==============================] - 0s 5ms/step - loss: 1.6950 - val_loss: 2.1860\n",
      "Epoch 97/100\n",
      "8/8 [==============================] - 0s 5ms/step - loss: 1.6325 - val_loss: 2.1155\n",
      "Epoch 98/100\n",
      "8/8 [==============================] - 0s 6ms/step - loss: 1.6366 - val_loss: 2.0882\n",
      "Epoch 99/100\n",
      "8/8 [==============================] - 0s 5ms/step - loss: 1.6745 - val_loss: 2.1438\n",
      "Epoch 100/100\n",
      "8/8 [==============================] - 0s 5ms/step - loss: 1.6902 - val_loss: 2.3396\n",
      "Wall time: 10.1 s\n"
     ]
    }
   ],
   "source": [
    "%%time\n",
    "history = dnn_model.fit(\n",
    "    train_features, train_labels,\n",
    "    validation_split=0.2,\n",
    "    verbose=1, epochs=100)"
   ]
  },
  {
   "cell_type": "markdown",
   "metadata": {},
   "source": [
    "plot_loss(history)"
   ]
  },
  {
   "cell_type": "code",
   "execution_count": 38,
   "metadata": {
    "scrolled": true
   },
   "outputs": [
    {
     "data": {
      "text/plain": [
       "{'linear_model Without Hidden Layer': 2.4601354598999023}"
      ]
     },
     "execution_count": 38,
     "metadata": {},
     "output_type": "execute_result"
    }
   ],
   "source": [
    "train_results"
   ]
  },
  {
   "cell_type": "code",
   "execution_count": 40,
   "metadata": {
    "scrolled": true
   },
   "outputs": [
    {
     "data": {
      "text/plain": [
       "{'linear_model Without Hidden Layer': 2.4601354598999023,\n",
       " 'Linear With Hidden Layer': 1.7741369009017944,\n",
       " 'Linear modelWith Hidden Layer': 1.7741369009017944}"
      ]
     },
     "execution_count": 40,
     "metadata": {},
     "output_type": "execute_result"
    }
   ],
   "source": [
    "train_results['Linear model With Hidden Layer'] = dnn_model.evaluate(train_features, train_labels, verbose=0)\n",
    "train_results"
   ]
  },
  {
   "cell_type": "code",
   "execution_count": 41,
   "metadata": {},
   "outputs": [
    {
     "data": {
      "text/plain": [
       "{'linear_model Without Hidden Layer': 2.507197618484497,\n",
       " 'Linear model With Hidden Layer': 1.6679288148880005}"
      ]
     },
     "execution_count": 41,
     "metadata": {},
     "output_type": "execute_result"
    }
   ],
   "source": [
    "test_results['Linear model With Hidden Layer'] = dnn_model.evaluate(test_features, test_labels, verbose=0)\n",
    "test_results"
   ]
  },
  {
   "cell_type": "markdown",
   "metadata": {},
   "source": [
    "# Prediction --Train Dataset"
   ]
  },
  {
   "cell_type": "code",
   "execution_count": 42,
   "metadata": {
    "collapsed": true
   },
   "outputs": [
    {
     "data": {
      "text/html": [
       "<div>\n",
       "<style scoped>\n",
       "    .dataframe tbody tr th:only-of-type {\n",
       "        vertical-align: middle;\n",
       "    }\n",
       "\n",
       "    .dataframe tbody tr th {\n",
       "        vertical-align: top;\n",
       "    }\n",
       "\n",
       "    .dataframe thead th {\n",
       "        text-align: right;\n",
       "    }\n",
       "</style>\n",
       "<table border=\"1\" class=\"dataframe\">\n",
       "  <thead>\n",
       "    <tr style=\"text-align: right;\">\n",
       "      <th></th>\n",
       "      <th>Cylinders</th>\n",
       "      <th>Displacement</th>\n",
       "      <th>Horsepower</th>\n",
       "      <th>Weight</th>\n",
       "      <th>Acceleration</th>\n",
       "      <th>Model Year</th>\n",
       "      <th>Europe</th>\n",
       "      <th>Japan</th>\n",
       "      <th>USA</th>\n",
       "      <th>MPG</th>\n",
       "    </tr>\n",
       "  </thead>\n",
       "  <tbody>\n",
       "    <tr>\n",
       "      <th>146</th>\n",
       "      <td>4</td>\n",
       "      <td>90.0</td>\n",
       "      <td>75.0</td>\n",
       "      <td>2125</td>\n",
       "      <td>14.5</td>\n",
       "      <td>74</td>\n",
       "      <td>0</td>\n",
       "      <td>0</td>\n",
       "      <td>1</td>\n",
       "      <td>28.0</td>\n",
       "    </tr>\n",
       "    <tr>\n",
       "      <th>282</th>\n",
       "      <td>4</td>\n",
       "      <td>140.0</td>\n",
       "      <td>88.0</td>\n",
       "      <td>2890</td>\n",
       "      <td>17.3</td>\n",
       "      <td>79</td>\n",
       "      <td>0</td>\n",
       "      <td>0</td>\n",
       "      <td>1</td>\n",
       "      <td>22.3</td>\n",
       "    </tr>\n",
       "    <tr>\n",
       "      <th>69</th>\n",
       "      <td>8</td>\n",
       "      <td>350.0</td>\n",
       "      <td>160.0</td>\n",
       "      <td>4456</td>\n",
       "      <td>13.5</td>\n",
       "      <td>72</td>\n",
       "      <td>0</td>\n",
       "      <td>0</td>\n",
       "      <td>1</td>\n",
       "      <td>12.0</td>\n",
       "    </tr>\n",
       "    <tr>\n",
       "      <th>378</th>\n",
       "      <td>4</td>\n",
       "      <td>105.0</td>\n",
       "      <td>63.0</td>\n",
       "      <td>2125</td>\n",
       "      <td>14.7</td>\n",
       "      <td>82</td>\n",
       "      <td>0</td>\n",
       "      <td>0</td>\n",
       "      <td>1</td>\n",
       "      <td>38.0</td>\n",
       "    </tr>\n",
       "    <tr>\n",
       "      <th>331</th>\n",
       "      <td>4</td>\n",
       "      <td>97.0</td>\n",
       "      <td>67.0</td>\n",
       "      <td>2145</td>\n",
       "      <td>18.0</td>\n",
       "      <td>80</td>\n",
       "      <td>0</td>\n",
       "      <td>1</td>\n",
       "      <td>0</td>\n",
       "      <td>33.8</td>\n",
       "    </tr>\n",
       "  </tbody>\n",
       "</table>\n",
       "</div>"
      ],
      "text/plain": [
       "     Cylinders  Displacement  Horsepower  Weight  Acceleration  Model Year  \\\n",
       "146          4          90.0        75.0    2125          14.5          74   \n",
       "282          4         140.0        88.0    2890          17.3          79   \n",
       "69           8         350.0       160.0    4456          13.5          72   \n",
       "378          4         105.0        63.0    2125          14.7          82   \n",
       "331          4          97.0        67.0    2145          18.0          80   \n",
       "\n",
       "     Europe  Japan  USA   MPG  \n",
       "146       0      0    1  28.0  \n",
       "282       0      0    1  22.3  \n",
       "69        0      0    1  12.0  \n",
       "378       0      0    1  38.0  \n",
       "331       0      1    0  33.8  "
      ]
     },
     "execution_count": 42,
     "metadata": {},
     "output_type": "execute_result"
    }
   ],
   "source": [
    "train_full2=pd.concat([train_features,train_labels],axis=1)\n",
    "train_full2.head()"
   ]
  },
  {
   "cell_type": "code",
   "execution_count": 43,
   "metadata": {
    "collapsed": true
   },
   "outputs": [
    {
     "name": "stdout",
     "output_type": "stream",
     "text": [
      "10/10 [==============================] - 0s 1ms/step\n"
     ]
    },
    {
     "data": {
      "text/html": [
       "<div>\n",
       "<style scoped>\n",
       "    .dataframe tbody tr th:only-of-type {\n",
       "        vertical-align: middle;\n",
       "    }\n",
       "\n",
       "    .dataframe tbody tr th {\n",
       "        vertical-align: top;\n",
       "    }\n",
       "\n",
       "    .dataframe thead th {\n",
       "        text-align: right;\n",
       "    }\n",
       "</style>\n",
       "<table border=\"1\" class=\"dataframe\">\n",
       "  <thead>\n",
       "    <tr style=\"text-align: right;\">\n",
       "      <th></th>\n",
       "      <th>Cylinders</th>\n",
       "      <th>Displacement</th>\n",
       "      <th>Horsepower</th>\n",
       "      <th>Weight</th>\n",
       "      <th>Acceleration</th>\n",
       "      <th>Model Year</th>\n",
       "      <th>Europe</th>\n",
       "      <th>Japan</th>\n",
       "      <th>USA</th>\n",
       "      <th>MPG</th>\n",
       "      <th>Prediction</th>\n",
       "    </tr>\n",
       "  </thead>\n",
       "  <tbody>\n",
       "    <tr>\n",
       "      <th>146</th>\n",
       "      <td>4</td>\n",
       "      <td>90.0</td>\n",
       "      <td>75.0</td>\n",
       "      <td>2125</td>\n",
       "      <td>14.5</td>\n",
       "      <td>74</td>\n",
       "      <td>0</td>\n",
       "      <td>0</td>\n",
       "      <td>1</td>\n",
       "      <td>28.0</td>\n",
       "      <td>28.623478</td>\n",
       "    </tr>\n",
       "    <tr>\n",
       "      <th>282</th>\n",
       "      <td>4</td>\n",
       "      <td>140.0</td>\n",
       "      <td>88.0</td>\n",
       "      <td>2890</td>\n",
       "      <td>17.3</td>\n",
       "      <td>79</td>\n",
       "      <td>0</td>\n",
       "      <td>0</td>\n",
       "      <td>1</td>\n",
       "      <td>22.3</td>\n",
       "      <td>24.222486</td>\n",
       "    </tr>\n",
       "    <tr>\n",
       "      <th>69</th>\n",
       "      <td>8</td>\n",
       "      <td>350.0</td>\n",
       "      <td>160.0</td>\n",
       "      <td>4456</td>\n",
       "      <td>13.5</td>\n",
       "      <td>72</td>\n",
       "      <td>0</td>\n",
       "      <td>0</td>\n",
       "      <td>1</td>\n",
       "      <td>12.0</td>\n",
       "      <td>12.484529</td>\n",
       "    </tr>\n",
       "    <tr>\n",
       "      <th>378</th>\n",
       "      <td>4</td>\n",
       "      <td>105.0</td>\n",
       "      <td>63.0</td>\n",
       "      <td>2125</td>\n",
       "      <td>14.7</td>\n",
       "      <td>82</td>\n",
       "      <td>0</td>\n",
       "      <td>0</td>\n",
       "      <td>1</td>\n",
       "      <td>38.0</td>\n",
       "      <td>36.366707</td>\n",
       "    </tr>\n",
       "    <tr>\n",
       "      <th>331</th>\n",
       "      <td>4</td>\n",
       "      <td>97.0</td>\n",
       "      <td>67.0</td>\n",
       "      <td>2145</td>\n",
       "      <td>18.0</td>\n",
       "      <td>80</td>\n",
       "      <td>0</td>\n",
       "      <td>1</td>\n",
       "      <td>0</td>\n",
       "      <td>33.8</td>\n",
       "      <td>33.673378</td>\n",
       "    </tr>\n",
       "  </tbody>\n",
       "</table>\n",
       "</div>"
      ],
      "text/plain": [
       "     Cylinders  Displacement  Horsepower  Weight  Acceleration  Model Year  \\\n",
       "146          4          90.0        75.0    2125          14.5          74   \n",
       "282          4         140.0        88.0    2890          17.3          79   \n",
       "69           8         350.0       160.0    4456          13.5          72   \n",
       "378          4         105.0        63.0    2125          14.7          82   \n",
       "331          4          97.0        67.0    2145          18.0          80   \n",
       "\n",
       "     Europe  Japan  USA   MPG  Prediction  \n",
       "146       0      0    1  28.0   28.623478  \n",
       "282       0      0    1  22.3   24.222486  \n",
       "69        0      0    1  12.0   12.484529  \n",
       "378       0      0    1  38.0   36.366707  \n",
       "331       0      1    0  33.8   33.673378  "
      ]
     },
     "execution_count": 43,
     "metadata": {},
     "output_type": "execute_result"
    }
   ],
   "source": [
    "train_full2[\"Prediction\"]=dnn_model.predict(train_features)\n",
    "train_full2.head()"
   ]
  },
  {
   "cell_type": "markdown",
   "metadata": {},
   "source": [
    "# Prediction --Test Dataset"
   ]
  },
  {
   "cell_type": "code",
   "execution_count": 44,
   "metadata": {
    "scrolled": true
   },
   "outputs": [
    {
     "data": {
      "text/html": [
       "<div>\n",
       "<style scoped>\n",
       "    .dataframe tbody tr th:only-of-type {\n",
       "        vertical-align: middle;\n",
       "    }\n",
       "\n",
       "    .dataframe tbody tr th {\n",
       "        vertical-align: top;\n",
       "    }\n",
       "\n",
       "    .dataframe thead th {\n",
       "        text-align: right;\n",
       "    }\n",
       "</style>\n",
       "<table border=\"1\" class=\"dataframe\">\n",
       "  <thead>\n",
       "    <tr style=\"text-align: right;\">\n",
       "      <th></th>\n",
       "      <th>Cylinders</th>\n",
       "      <th>Displacement</th>\n",
       "      <th>Horsepower</th>\n",
       "      <th>Weight</th>\n",
       "      <th>Acceleration</th>\n",
       "      <th>Model Year</th>\n",
       "      <th>Europe</th>\n",
       "      <th>Japan</th>\n",
       "      <th>USA</th>\n",
       "      <th>MPG</th>\n",
       "    </tr>\n",
       "  </thead>\n",
       "  <tbody>\n",
       "    <tr>\n",
       "      <th>9</th>\n",
       "      <td>8</td>\n",
       "      <td>390.0</td>\n",
       "      <td>190.0</td>\n",
       "      <td>3850</td>\n",
       "      <td>8.5</td>\n",
       "      <td>70</td>\n",
       "      <td>0</td>\n",
       "      <td>0</td>\n",
       "      <td>1</td>\n",
       "      <td>15.0</td>\n",
       "    </tr>\n",
       "    <tr>\n",
       "      <th>25</th>\n",
       "      <td>8</td>\n",
       "      <td>360.0</td>\n",
       "      <td>215.0</td>\n",
       "      <td>4615</td>\n",
       "      <td>14.0</td>\n",
       "      <td>70</td>\n",
       "      <td>0</td>\n",
       "      <td>0</td>\n",
       "      <td>1</td>\n",
       "      <td>10.0</td>\n",
       "    </tr>\n",
       "    <tr>\n",
       "      <th>28</th>\n",
       "      <td>8</td>\n",
       "      <td>304.0</td>\n",
       "      <td>193.0</td>\n",
       "      <td>4732</td>\n",
       "      <td>18.5</td>\n",
       "      <td>70</td>\n",
       "      <td>0</td>\n",
       "      <td>0</td>\n",
       "      <td>1</td>\n",
       "      <td>9.0</td>\n",
       "    </tr>\n",
       "    <tr>\n",
       "      <th>31</th>\n",
       "      <td>4</td>\n",
       "      <td>113.0</td>\n",
       "      <td>95.0</td>\n",
       "      <td>2228</td>\n",
       "      <td>14.0</td>\n",
       "      <td>71</td>\n",
       "      <td>0</td>\n",
       "      <td>1</td>\n",
       "      <td>0</td>\n",
       "      <td>25.0</td>\n",
       "    </tr>\n",
       "    <tr>\n",
       "      <th>33</th>\n",
       "      <td>6</td>\n",
       "      <td>232.0</td>\n",
       "      <td>100.0</td>\n",
       "      <td>2634</td>\n",
       "      <td>13.0</td>\n",
       "      <td>71</td>\n",
       "      <td>0</td>\n",
       "      <td>0</td>\n",
       "      <td>1</td>\n",
       "      <td>19.0</td>\n",
       "    </tr>\n",
       "  </tbody>\n",
       "</table>\n",
       "</div>"
      ],
      "text/plain": [
       "    Cylinders  Displacement  Horsepower  Weight  Acceleration  Model Year  \\\n",
       "9           8         390.0       190.0    3850           8.5          70   \n",
       "25          8         360.0       215.0    4615          14.0          70   \n",
       "28          8         304.0       193.0    4732          18.5          70   \n",
       "31          4         113.0        95.0    2228          14.0          71   \n",
       "33          6         232.0       100.0    2634          13.0          71   \n",
       "\n",
       "    Europe  Japan  USA   MPG  \n",
       "9        0      0    1  15.0  \n",
       "25       0      0    1  10.0  \n",
       "28       0      0    1   9.0  \n",
       "31       0      1    0  25.0  \n",
       "33       0      0    1  19.0  "
      ]
     },
     "execution_count": 44,
     "metadata": {},
     "output_type": "execute_result"
    }
   ],
   "source": [
    "test_full2=pd.concat([test_features,test_labels],axis=1)\n",
    "test_full2.head()"
   ]
  },
  {
   "cell_type": "code",
   "execution_count": 45,
   "metadata": {},
   "outputs": [
    {
     "name": "stdout",
     "output_type": "stream",
     "text": [
      "3/3 [==============================] - 0s 2ms/step\n"
     ]
    },
    {
     "data": {
      "text/html": [
       "<div>\n",
       "<style scoped>\n",
       "    .dataframe tbody tr th:only-of-type {\n",
       "        vertical-align: middle;\n",
       "    }\n",
       "\n",
       "    .dataframe tbody tr th {\n",
       "        vertical-align: top;\n",
       "    }\n",
       "\n",
       "    .dataframe thead th {\n",
       "        text-align: right;\n",
       "    }\n",
       "</style>\n",
       "<table border=\"1\" class=\"dataframe\">\n",
       "  <thead>\n",
       "    <tr style=\"text-align: right;\">\n",
       "      <th></th>\n",
       "      <th>Cylinders</th>\n",
       "      <th>Displacement</th>\n",
       "      <th>Horsepower</th>\n",
       "      <th>Weight</th>\n",
       "      <th>Acceleration</th>\n",
       "      <th>Model Year</th>\n",
       "      <th>Europe</th>\n",
       "      <th>Japan</th>\n",
       "      <th>USA</th>\n",
       "      <th>MPG</th>\n",
       "      <th>Prediction</th>\n",
       "    </tr>\n",
       "  </thead>\n",
       "  <tbody>\n",
       "    <tr>\n",
       "      <th>9</th>\n",
       "      <td>8</td>\n",
       "      <td>390.0</td>\n",
       "      <td>190.0</td>\n",
       "      <td>3850</td>\n",
       "      <td>8.5</td>\n",
       "      <td>70</td>\n",
       "      <td>0</td>\n",
       "      <td>0</td>\n",
       "      <td>1</td>\n",
       "      <td>15.0</td>\n",
       "      <td>15.612674</td>\n",
       "    </tr>\n",
       "    <tr>\n",
       "      <th>25</th>\n",
       "      <td>8</td>\n",
       "      <td>360.0</td>\n",
       "      <td>215.0</td>\n",
       "      <td>4615</td>\n",
       "      <td>14.0</td>\n",
       "      <td>70</td>\n",
       "      <td>0</td>\n",
       "      <td>0</td>\n",
       "      <td>1</td>\n",
       "      <td>10.0</td>\n",
       "      <td>10.744390</td>\n",
       "    </tr>\n",
       "    <tr>\n",
       "      <th>28</th>\n",
       "      <td>8</td>\n",
       "      <td>304.0</td>\n",
       "      <td>193.0</td>\n",
       "      <td>4732</td>\n",
       "      <td>18.5</td>\n",
       "      <td>70</td>\n",
       "      <td>0</td>\n",
       "      <td>0</td>\n",
       "      <td>1</td>\n",
       "      <td>9.0</td>\n",
       "      <td>10.842269</td>\n",
       "    </tr>\n",
       "    <tr>\n",
       "      <th>31</th>\n",
       "      <td>4</td>\n",
       "      <td>113.0</td>\n",
       "      <td>95.0</td>\n",
       "      <td>2228</td>\n",
       "      <td>14.0</td>\n",
       "      <td>71</td>\n",
       "      <td>0</td>\n",
       "      <td>1</td>\n",
       "      <td>0</td>\n",
       "      <td>25.0</td>\n",
       "      <td>24.132677</td>\n",
       "    </tr>\n",
       "    <tr>\n",
       "      <th>33</th>\n",
       "      <td>6</td>\n",
       "      <td>232.0</td>\n",
       "      <td>100.0</td>\n",
       "      <td>2634</td>\n",
       "      <td>13.0</td>\n",
       "      <td>71</td>\n",
       "      <td>0</td>\n",
       "      <td>0</td>\n",
       "      <td>1</td>\n",
       "      <td>19.0</td>\n",
       "      <td>20.944193</td>\n",
       "    </tr>\n",
       "  </tbody>\n",
       "</table>\n",
       "</div>"
      ],
      "text/plain": [
       "    Cylinders  Displacement  Horsepower  Weight  Acceleration  Model Year  \\\n",
       "9           8         390.0       190.0    3850           8.5          70   \n",
       "25          8         360.0       215.0    4615          14.0          70   \n",
       "28          8         304.0       193.0    4732          18.5          70   \n",
       "31          4         113.0        95.0    2228          14.0          71   \n",
       "33          6         232.0       100.0    2634          13.0          71   \n",
       "\n",
       "    Europe  Japan  USA   MPG  Prediction  \n",
       "9        0      0    1  15.0   15.612674  \n",
       "25       0      0    1  10.0   10.744390  \n",
       "28       0      0    1   9.0   10.842269  \n",
       "31       0      1    0  25.0   24.132677  \n",
       "33       0      0    1  19.0   20.944193  "
      ]
     },
     "execution_count": 45,
     "metadata": {},
     "output_type": "execute_result"
    }
   ],
   "source": [
    "test_full2[\"Prediction\"]=dnn_model.predict(test_features)\n",
    "test_full2.head()"
   ]
  },
  {
   "cell_type": "markdown",
   "metadata": {},
   "source": [
    "# Finished"
   ]
  },
  {
   "cell_type": "markdown",
   "metadata": {},
   "source": [
    "# impact of below on MAE\n",
    "\n",
    "* Activation = Linear OR Relu\n",
    "* Hidden layer = \n",
    "* Optimizer  = Adam or SGB"
   ]
  },
  {
   "cell_type": "markdown",
   "metadata": {},
   "source": [
    "# Model Comparision "
   ]
  },
  {
   "cell_type": "code",
   "execution_count": null,
   "metadata": {},
   "outputs": [],
   "source": [
    "pd.DataFrame(train_results, index=['Mean absolute error [MPG]']).T"
   ]
  },
  {
   "cell_type": "code",
   "execution_count": null,
   "metadata": {
    "scrolled": true
   },
   "outputs": [],
   "source": [
    "pd.DataFrame(test_results, index=['Mean absolute error [MPG]']).T"
   ]
  },
  {
   "cell_type": "markdown",
   "metadata": {},
   "source": [
    "## Model Saving"
   ]
  },
  {
   "cell_type": "code",
   "execution_count": null,
   "metadata": {},
   "outputs": [],
   "source": [
    "dnn_model.save('Irfan_model')"
   ]
  },
  {
   "cell_type": "code",
   "execution_count": null,
   "metadata": {},
   "outputs": [],
   "source": [
    "reloaded = tf.keras.models.load_model('Irfan_model')\n",
    "test_results['reloaded'] = reloaded.evaluate(test_features, test_labels, verbose=0)"
   ]
  },
  {
   "cell_type": "code",
   "execution_count": null,
   "metadata": {
    "scrolled": true
   },
   "outputs": [],
   "source": [
    "pd.DataFrame(test_results, index=['Mean absolute error [MPG]']).T"
   ]
  },
  {
   "cell_type": "markdown",
   "metadata": {},
   "source": [
    "* Hidden Layer is always a best model in ANN"
   ]
  }
 ],
 "metadata": {
  "kernelspec": {
   "display_name": "Python 3 (ipykernel)",
   "language": "python",
   "name": "python3"
  },
  "language_info": {
   "codemirror_mode": {
    "name": "ipython",
    "version": 3
   },
   "file_extension": ".py",
   "mimetype": "text/x-python",
   "name": "python",
   "nbconvert_exporter": "python",
   "pygments_lexer": "ipython3",
   "version": "3.9.13"
  }
 },
 "nbformat": 4,
 "nbformat_minor": 4
}
